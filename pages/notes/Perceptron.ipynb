{
 "cells": [
  {
   "cell_type": "markdown",
   "metadata": {
    "collapsed": false
   },
   "source": [
    "# Perceptron\n",
    "The perceptron is an algorithm for supervised learning of binary classifiers. \n",
    "A binary classifier is a function which can decide whether or not an input,\n",
    "represented by a vector of numbers, belongs to some specific class. It is a \n",
    "type of linear classifier, i.e. a classification algorithm that makes its\n",
    "predictions based on a linear predictor function combining a set of weights\n",
    "with the feature vector.\n",
    "\n",
    "![Perceptron](https://cdn-images-1.medium.com/max/1200/0*LaXMcr3mL9jQ183s)\n",
    "\n",
    "## Parameters\n",
    "#### Weight\n",
    "$w = [w_{0}, w_{1}, w_{2}]$\n",
    "\n",
    "#### Learning Rate\n",
    "$n = 0<n<1$\n",
    "\n",
    "## Input\n",
    "$x = [1, x, y]$\n",
    "\n",
    "## [Dot product](https://en.wikipedia.org/wiki/Dot_product)\n",
    "$\\displaystyle wx^{T} = [w_{0}, w_{1}, w_{2}] [1, x, y]^{T} = 1w_{0} + w_{1}x + w_{2}y {\\begin{cases}class_{0}& >0,\\\\class_{1}& \\le 0\\end{cases}}$\n",
    "\n",
    "#### Example\n",
    "$w = [0, 1, 0.5], x = [1, x, y]$\n",
    "\n",
    "$wx^{T} = 0 \\cdot 1 + 1x + 0.5 \\cdot y > 0$\n",
    "\n",
    "$wx^{T} = x + 0.5 \\cdot y > 0$\n",
    "\n",
    "$wx^{T} = 2x + y > 0$\n",
    "\n",
    "$wx^{T} = y > -2x$"
   ]
  },
  {
   "cell_type": "code",
   "execution_count": 63,
   "metadata": {
    "collapsed": false
   },
   "outputs": [],
   "source": [
    "from matplotlib import pyplot as plt\n",
    "import seaborn as sb\n",
    "import pandas as pd\n",
    "import numpy as np"
   ]
  },
  {
   "cell_type": "code",
   "execution_count": 64,
   "metadata": {
    "collapsed": false
   },
   "outputs": [
    {
     "data": {
      "image/png": "[encoded data removed]",
      "text/plain": [
       "<Figure size 432x288 with 1 Axes>"
      ]
     },
     "metadata": {
      "needs_background": "light"
     },
     "output_type": "display_data"
    }
   ],
   "source": [
    "x = range(-10,10)\n",
    "y = []\n",
    "zero = []\n",
    "for i in x:\n",
    "    y.append(-2 * i)\n",
    "    zero.append(0)\n",
    "\n",
    "plt.plot(x, y)\n",
    "plt.plot(x, zero, color=\"black\")\n",
    "plt.plot(zero, y, color=\"black\")\n",
    "plt.show()"
   ]
  },
  {
   "cell_type": "code",
   "execution_count": 61,
   "metadata": {
    "collapsed": false
   },
   "outputs": [],
   "source": []
  },
  {
   "cell_type": "code",
   "execution_count": 30,
   "metadata": {
    "collapsed": false
   },
   "outputs": [],
   "source": [
    "ds = pd.DataFrame()"
   ]
  },
  {
   "cell_type": "code",
   "execution_count": 12,
   "metadata": {
    "collapsed": false
   },
   "outputs": [],
   "source": [
    "temp = range(-10, 10)"
   ]
  },
  {
   "cell_type": "code",
   "execution_count": 21,
   "metadata": {
    "collapsed": false
   },
   "outputs": [],
   "source": [
    "x = []\n",
    "y = []\n",
    "ze = []\n",
    "for i in temp:\n",
    "    ze.append(0)\n",
    "    x.append(i)\n",
    "    y.append(-2 * i)"
   ]
  },
  {
   "cell_type": "code",
   "execution_count": 26,
   "metadata": {
    "collapsed": false
   },
   "outputs": [
    {
     "data": {
      "text/plain": [
       "[-10, -9, -8, -7, -6, -5, -4, -3, -2, -1, 0, 1, 2, 3, 4, 5, 6, 7, 8, 9]"
      ]
     },
     "execution_count": 26,
     "metadata": {},
     "output_type": "execute_result"
    }
   ],
   "source": [
    "x"
   ]
  },
  {
   "cell_type": "code",
   "execution_count": null,
   "metadata": {
    "collapsed": false
   },
   "outputs": [],
   "source": []
  },
  {
   "cell_type": "code",
   "execution_count": null,
   "metadata": {
    "collapsed": false
   },
   "outputs": [],
   "source": []
  },
  {
   "cell_type": "code",
   "execution_count": null,
   "metadata": {
    "collapsed": false
   },
   "outputs": [],
   "source": []
  },
  {
   "cell_type": "code",
   "execution_count": null,
   "metadata": {
    "collapsed": false
   },
   "outputs": [],
   "source": []
  },
  {
   "cell_type": "code",
   "execution_count": null,
   "metadata": {
    "collapsed": false
   },
   "outputs": [],
   "source": []
  },
  {
   "cell_type": "code",
   "execution_count": null,
   "metadata": {
    "collapsed": false
   },
   "outputs": [],
   "source": []
  },
  {
   "cell_type": "markdown",
   "metadata": {
    "collapsed": false
   },
   "source": [
    "# Sources\n",
    "\n",
    "- [Wikipedia - Perceptron](https://en.wikipedia.org/wiki/Perceptron)\n",
    "- [Wikipedia - Linear separability](https://en.wikipedia.org/wiki/Linear_separability)\n",
    "- [Wikipedia - Dot product](https://en.wikipedia.org/wiki/Dot_product)"
   ]
  }
 ],
 "metadata": {
  "kernelspec": {
   "argv": [
    "/usr/bin/python3",
    "-m",
    "ipykernel_launcher",
    "-f",
    "{connection_file}"
   ],
   "display_name": "Python 3",
   "env": null,
   "interrupt_mode": "signal",
   "language": "python",
   "metadata": null,
   "name": "python3"
  },
  "name": "Perceptron.ipynb"
 },
 "nbformat": 4,
 "nbformat_minor": 2
}
