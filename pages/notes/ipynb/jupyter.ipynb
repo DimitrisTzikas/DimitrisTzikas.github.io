{
 "cells": [
  {
   "cell_type": "markdown",
   "metadata": {
    "collapsed": false
   },
   "source": [
    "# Jupyter Notebooks\n",
    "![jupyter](https://s3-ap-south-1.amazonaws.com/av-blog-media/wp-content/uploads/2018/04/jupyter.png)\n",
    "\n",
    "## Τι είναι το Project Jupyter;\n",
    "Το Project Jupyter είναι ένας μη κερδοσκοπικός οργανισμός που δημιουργήθηκε με σκοπό την ανάπτυξη λογισμικού ανοιχτού κώδικα, ανοιχτών προτύπων και υπηρεσιών για διαδραστικούς υπολογιστές σε δεκάδες γλώσσες προγραμματισμού. Ένα από τα προγράμματα που ανέπτυξαν και υποστηρίζουν είναι το Jupyeter Notebooks.\n",
    "\n",
    "---\n",
    "\n",
    "## Πώς να εγκαταστήσω το Jupyter στο μηχάνημα μου;\n",
    "### Linux\n",
    "#### Arch linux\n",
    "Στα arch linux απλός εκτελέστε το εξής:"
   ]
  },
  {
   "cell_type": "code",
   "execution_count": null,
   "metadata": {
    "collapsed": false,
    "jupyter": {
     "outputs_hidden": false
    }
   },
   "outputs": [],
   "source": [
    "!yes | sudo pacman -S jupyter-notebook python-ipykernel"
   ]
  },
  {
   "cell_type": "markdown",
   "metadata": {
    "collapsed": false
   },
   "source": [
    "*Προσοχή*, μην κάνετε αντιγραφή τον χαρακτήρα !\n",
    "\n",
    "#### Ubuntu linux\n",
    "Στα ubuntu linux εκτελέστε τα εξής:"
   ]
  },
  {
   "cell_type": "code",
   "execution_count": null,
   "metadata": {
    "collapsed": false,
    "jupyter": {
     "outputs_hidden": false
    }
   },
   "outputs": [],
   "source": [
    "%%bash\n",
    "sudo apt install python3-pip python3-dev\n",
    "pip install jupyter"
   ]
  },
  {
   "cell_type": "markdown",
   "metadata": {
    "collapsed": false
   },
   "source": [
    "#### Πώς να κάνω πιο προσβάσιμο το Jupyter;\n",
    "Για να εκτελέσουμε το Jupyter θα πρέπει να το εκτελέσουμε από τη γραμμή εντολών."
   ]
  },
  {
   "cell_type": "code",
   "execution_count": null,
   "metadata": {
    "collapsed": false,
    "jupyter": {
     "outputs_hidden": false
    }
   },
   "outputs": [],
   "source": [
    "!jupyter lab"
   ]
  },
  {
   "cell_type": "markdown",
   "metadata": {
    "collapsed": false
   },
   "source": [
    "ή"
   ]
  },
  {
   "cell_type": "code",
   "execution_count": null,
   "metadata": {
    "collapsed": false
   },
   "outputs": [],
   "source": [
    "!jupyter lab & disown %jupyter"
   ]
  },
  {
   "cell_type": "markdown",
   "metadata": {
    "collapsed": false
   },
   "source": [
    "και για να το κλείσουμε"
   ]
  },
  {
   "cell_type": "code",
   "execution_count": null,
   "metadata": {
    "collapsed": false,
    "jupyter": {
     "outputs_hidden": false
    }
   },
   "outputs": [],
   "source": [
    "!pkill jupyter"
   ]
  },
  {
   "cell_type": "markdown",
   "metadata": {
    "collapsed": false
   },
   "source": [
    "### Windows\n",
    "Μπορείτε να ακολουθήσετε αυτόν τον [οδηγό](https://medium.com/@kswalawage/install-python-and-jupyter-notebook-to-windows-10-64-bit-66db782e1d02).\n",
    "\n",
    "Μπορείτε να το κατεβάσετε με το anacoda, conda ή pip."
   ]
  },
  {
   "cell_type": "code",
   "execution_count": null,
   "metadata": {
    "collapsed": false,
    "jupyter": {
     "outputs_hidden": false
    }
   },
   "outputs": [],
   "source": [
    "!pip install jupyter"
   ]
  },
  {
   "cell_type": "markdown",
   "metadata": {
    "collapsed": false
   },
   "source": [
    "---\n",
    "\n",
    "## Kernels\n",
    "Οι πυρήνες είναι τα προγράμματα που εκτελούν τον κώδικα."
   ]
  },
  {
   "cell_type": "markdown",
   "metadata": {
    "collapsed": false
   },
   "source": [
    "---\n",
    "\n",
    "## Shortcuts\n",
    "- Ctrl + Enter: Run Cell\n",
    "- Shift + Enter: Run Cell and Select Below\n",
    "- Alt + Enter: Run Cell and Insert Below\n",
    "\n",
    "---\n",
    "\n",
    "## Magics\n",
    "- lsmagic\n",
    "- matplotlib inline\n",
    "- html\n",
    "- bash"
   ]
  },
  {
   "cell_type": "code",
   "execution_count": 1,
   "metadata": {
    "collapsed": false,
    "jupyter": {
     "outputs_hidden": false
    }
   },
   "outputs": [
    {
     "data": {
      "application/json": {
       "cell": {
        "!": "OSMagics",
        "HTML": "Other",
        "SVG": "Other",
        "bash": "Other",
        "capture": "ExecutionMagics",
        "debug": "ExecutionMagics",
        "file": "Other",
        "html": "DisplayMagics",
        "javascript": "DisplayMagics",
        "js": "DisplayMagics",
        "latex": "DisplayMagics",
        "markdown": "DisplayMagics",
        "perl": "Other",
        "prun": "ExecutionMagics",
        "pypy": "Other",
        "python": "Other",
        "python2": "Other",
        "python3": "Other",
        "ruby": "Other",
        "script": "ScriptMagics",
        "sh": "Other",
        "svg": "DisplayMagics",
        "sx": "OSMagics",
        "system": "OSMagics",
        "time": "ExecutionMagics",
        "timeit": "ExecutionMagics",
        "writefile": "OSMagics"
       },
       "line": {
        "alias": "OSMagics",
        "alias_magic": "BasicMagics",
        "autoawait": "AsyncMagics",
        "autocall": "AutoMagics",
        "automagic": "AutoMagics",
        "autosave": "KernelMagics",
        "bookmark": "OSMagics",
        "cat": "Other",
        "cd": "OSMagics",
        "clear": "KernelMagics",
        "colors": "BasicMagics",
        "conda": "PackagingMagics",
        "config": "ConfigMagics",
        "connect_info": "KernelMagics",
        "cp": "Other",
        "debug": "ExecutionMagics",
        "dhist": "OSMagics",
        "dirs": "OSMagics",
        "doctest_mode": "BasicMagics",
        "ed": "Other",
        "edit": "KernelMagics",
        "env": "OSMagics",
        "gui": "BasicMagics",
        "hist": "Other",
        "history": "HistoryMagics",
        "killbgscripts": "ScriptMagics",
        "ldir": "Other",
        "less": "KernelMagics",
        "lf": "Other",
        "lk": "Other",
        "ll": "Other",
        "load": "CodeMagics",
        "load_ext": "ExtensionMagics",
        "loadpy": "CodeMagics",
        "logoff": "LoggingMagics",
        "logon": "LoggingMagics",
        "logstart": "LoggingMagics",
        "logstate": "LoggingMagics",
        "logstop": "LoggingMagics",
        "ls": "Other",
        "lsmagic": "BasicMagics",
        "lx": "Other",
        "macro": "ExecutionMagics",
        "magic": "BasicMagics",
        "man": "KernelMagics",
        "matplotlib": "PylabMagics",
        "mkdir": "Other",
        "more": "KernelMagics",
        "mv": "Other",
        "notebook": "BasicMagics",
        "page": "BasicMagics",
        "pastebin": "CodeMagics",
        "pdb": "ExecutionMagics",
        "pdef": "NamespaceMagics",
        "pdoc": "NamespaceMagics",
        "pfile": "NamespaceMagics",
        "pinfo": "NamespaceMagics",
        "pinfo2": "NamespaceMagics",
        "pip": "PackagingMagics",
        "popd": "OSMagics",
        "pprint": "BasicMagics",
        "precision": "BasicMagics",
        "prun": "ExecutionMagics",
        "psearch": "NamespaceMagics",
        "psource": "NamespaceMagics",
        "pushd": "OSMagics",
        "pwd": "OSMagics",
        "pycat": "OSMagics",
        "pylab": "PylabMagics",
        "qtconsole": "KernelMagics",
        "quickref": "BasicMagics",
        "recall": "HistoryMagics",
        "rehashx": "OSMagics",
        "reload_ext": "ExtensionMagics",
        "rep": "Other",
        "rerun": "HistoryMagics",
        "reset": "NamespaceMagics",
        "reset_selective": "NamespaceMagics",
        "rm": "Other",
        "rmdir": "Other",
        "run": "ExecutionMagics",
        "save": "CodeMagics",
        "sc": "OSMagics",
        "set_env": "OSMagics",
        "store": "StoreMagics",
        "sx": "OSMagics",
        "system": "OSMagics",
        "tb": "ExecutionMagics",
        "time": "ExecutionMagics",
        "timeit": "ExecutionMagics",
        "unalias": "OSMagics",
        "unload_ext": "ExtensionMagics",
        "who": "NamespaceMagics",
        "who_ls": "NamespaceMagics",
        "whos": "NamespaceMagics",
        "xdel": "NamespaceMagics",
        "xmode": "BasicMagics"
       }
      },
      "text/plain": [
       "Available line magics:\n",
       "%alias  %alias_magic  %autoawait  %autocall  %automagic  %autosave  %bookmark  %cat  %cd  %clear  %colors  %conda  %config  %connect_info  %cp  %debug  %dhist  %dirs  %doctest_mode  %ed  %edit  %env  %gui  %hist  %history  %killbgscripts  %ldir  %less  %lf  %lk  %ll  %load  %load_ext  %loadpy  %logoff  %logon  %logstart  %logstate  %logstop  %ls  %lsmagic  %lx  %macro  %magic  %man  %matplotlib  %mkdir  %more  %mv  %notebook  %page  %pastebin  %pdb  %pdef  %pdoc  %pfile  %pinfo  %pinfo2  %pip  %popd  %pprint  %precision  %prun  %psearch  %psource  %pushd  %pwd  %pycat  %pylab  %qtconsole  %quickref  %recall  %rehashx  %reload_ext  %rep  %rerun  %reset  %reset_selective  %rm  %rmdir  %run  %save  %sc  %set_env  %store  %sx  %system  %tb  %time  %timeit  %unalias  %unload_ext  %who  %who_ls  %whos  %xdel  %xmode\n",
       "\n",
       "Available cell magics:\n",
       "%%!  %%HTML  %%SVG  %%bash  %%capture  %%debug  %%file  %%html  %%javascript  %%js  %%latex  %%markdown  %%perl  %%prun  %%pypy  %%python  %%python2  %%python3  %%ruby  %%script  %%sh  %%svg  %%sx  %%system  %%time  %%timeit  %%writefile\n",
       "\n",
       "Automagic is ON, % prefix IS NOT needed for line magics."
      ]
     },
     "execution_count": 1,
     "metadata": {},
     "output_type": "execute_result"
    }
   ],
   "source": [
    "%lsmagic"
   ]
  },
  {
   "cell_type": "code",
   "execution_count": 2,
   "metadata": {
    "collapsed": false,
    "jupyter": {
     "outputs_hidden": false
    }
   },
   "outputs": [
    {
     "name": "stdout",
     "output_type": "stream",
     "text": [
      "GNU bash, version 5.0.16(1)-release (x86_64-pc-linux-gnu)\n",
      "Copyright (C) 2019 Free Software Foundation, Inc.\n",
      "License GPLv3+: GNU GPL version 3 or later <http://gnu.org/licenses/gpl.html>\n",
      "\n",
      "This is free software; you are free to change and redistribute it.\n",
      "There is NO WARRANTY, to the extent permitted by law.\n"
     ]
    }
   ],
   "source": [
    "%%bash\n",
    "bash --version"
   ]
  },
  {
   "cell_type": "markdown",
   "metadata": {
    "collapsed": false
   },
   "source": [
    "---\n",
    "\n",
    "## Ipython magic commands"
   ]
  },
  {
   "cell_type": "code",
   "execution_count": 3,
   "metadata": {
    "collapsed": false,
    "jupyter": {
     "outputs_hidden": false
    }
   },
   "outputs": [],
   "source": [
    "import time\n",
    "\n",
    "def method_a():\n",
    "    time.sleep(1)\n",
    "\n",
    "def method_b():\n",
    "    time.sleep(2)"
   ]
  },
  {
   "cell_type": "code",
   "execution_count": 4,
   "metadata": {
    "collapsed": false,
    "jupyter": {
     "outputs_hidden": false
    }
   },
   "outputs": [
    {
     "name": "stdout",
     "output_type": "stream",
     "text": [
      "1 s ± 249 µs per loop (mean ± std. dev. of 7 runs, 1 loop each)\n"
     ]
    }
   ],
   "source": [
    "%timeit method_a()"
   ]
  },
  {
   "cell_type": "code",
   "execution_count": 5,
   "metadata": {
    "collapsed": false,
    "jupyter": {
     "outputs_hidden": false
    }
   },
   "outputs": [
    {
     "name": "stdout",
     "output_type": "stream",
     "text": [
      "2 s ± 488 µs per loop (mean ± std. dev. of 7 runs, 1 loop each)\n"
     ]
    }
   ],
   "source": [
    "%timeit method_b()"
   ]
  },
  {
   "cell_type": "markdown",
   "metadata": {
    "collapsed": false
   },
   "source": [
    "---\n",
    "\n",
    "## Plots\n",
    "![plot](https://media.giphy.com/media/l1J9OlVJEcxl9343u/giphy.gif)"
   ]
  },
  {
   "cell_type": "code",
   "execution_count": 6,
   "metadata": {
    "collapsed": false,
    "jupyter": {
     "outputs_hidden": false
    }
   },
   "outputs": [
    {
     "data": {
      "image/png": "[encoded data removed]",
      "text/plain": [
       "<Figure size 432x288 with 1 Axes>"
      ]
     },
     "metadata": {
      "needs_background": "light"
     },
     "output_type": "display_data"
    }
   ],
   "source": [
    "import matplotlib.pyplot as plt\n",
    "\n",
    "points = [\n",
    "    [1, 1, \"Red\"], [1, 4, \"Red\"], [1, 9, \"Black\"], [5, 3,\"Black\"],\n",
    "    [5, 6, \"Red\"], [6, 1, \"Black\"], [6, 2, \"Black\"], [6, 5, \"Black\"],\n",
    "    [6, 8, \"Red\"], [8, 1, \"Red\"], [9, 3, \"Black\"], [2, 9, \"Black\"]\n",
    "]\n",
    "\n",
    "plt.title(\"Points\")\n",
    "plt.xlabel(\"x\")\n",
    "plt.ylabel(\"y\")\n",
    "\n",
    "char = 'A'\n",
    "for point in points:\n",
    "    plt.plot(point[1],point[0], \"o\", label=char, color=point[2])\n",
    "    char = chr(ord(char) + 1)\n",
    "\n",
    "plt.legend()\n",
    "plt.show()"
   ]
  },
  {
   "cell_type": "code",
   "execution_count": 7,
   "metadata": {
    "collapsed": false,
    "jupyter": {
     "outputs_hidden": false
    }
   },
   "outputs": [
    {
     "name": "stdout",
     "output_type": "stream",
     "text": [
      "Gradient Descent f(x) = X^3-3*x^2\n"
     ]
    },
    {
     "data": {
      "image/png": "[encoded data removed]",
      "text/plain": [
       "<Figure size 432x288 with 1 Axes>"
      ]
     },
     "metadata": {
      "needs_background": "light"
     },
     "output_type": "display_data"
    }
   ],
   "source": [
    "from matplotlib.widgets import Button\n",
    "import matplotlib.pyplot as plt\n",
    "import numpy as np\n",
    "\n",
    "print(\"Gradient Descent f(x) = X^3-3*x^2\")\n",
    "x_root = float(input(\"x0 (3-4): \"))\n",
    "b = float(input(\"b (0.01-0.05): \"))\n",
    "\n",
    "y0 = []\n",
    "x_root_arr = []\n",
    "\n",
    "x_axis = np.r_[-1:4:0.01]\n",
    "x_axis0 = np.zeros(x_axis.size)\n",
    "y_axis = np.r_[-5:25:0.01]\n",
    "y_axis0 = np.zeros(y_axis.size)\n",
    "\n",
    "# 3(x_root^2)-6x_root > 10^-3\n",
    "while abs(3 * pow(x_root, 2) - 6 * x_root) > pow(10, -3):\n",
    "    # x_root-b(3x_root^2-6x_root)\n",
    "    x_root = x_root - b * (3 * pow(x_root, 2) - 6 * x_root)\n",
    "    x_root_arr.append(x_root)\n",
    "    # x_axis^3-3x_axis^2\n",
    "    y = pow(x_axis, 3) - 3 * pow(x_axis, 2)\n",
    "    # 3x_axis^2-6x_axis\n",
    "    y1 = 3 * pow(x_axis, 2) - 6 * x_axis\n",
    "    # x_root^3-3x_root^2\n",
    "    y0.append(pow(x_root, 3) - 3 * pow(x_root, 2))    \n",
    "\n",
    "plt.title(\"Gradient Descent f(x) = x^3-3x^2\")\n",
    "plt.xlabel(\"x\")\n",
    "plt.ylabel(\"f(x)\\\\f'(x)\")\n",
    "\n",
    "plt.plot(x_axis, x_axis0, \"--\", label=\"X-axis\")\n",
    "plt.plot(y_axis0, y_axis, \"--\", label=\"Y-axis\")\n",
    "plt.plot(x_axis, y, \"k-\", label=\"f(x)\")\n",
    "plt.plot(x_axis, y1, \"g-\", label=\"f'(x)\")\n",
    "plt.plot(x_root_arr, y0, \"r-\",label=\"x_root\")\n",
    "\n",
    "plt.legend()\n",
    "plt.show()"
   ]
  },
  {
   "cell_type": "markdown",
   "metadata": {
    "collapsed": false
   },
   "source": [
    "---\n",
    "\n",
    "## Pandas\n",
    "![panda](https://i.pinimg.com/736x/6a/18/df/6a18dff64059bb388ed1046c0f2cc350.jpg)"
   ]
  },
  {
   "cell_type": "code",
   "execution_count": 8,
   "metadata": {
    "collapsed": false,
    "jupyter": {
     "outputs_hidden": false
    }
   },
   "outputs": [
    {
     "data": {
      "text/html": [
       "<div>\n",
       "<style scoped>\n",
       "    .dataframe tbody tr th:only-of-type {\n",
       "        vertical-align: middle;\n",
       "    }\n",
       "\n",
       "    .dataframe tbody tr th {\n",
       "        vertical-align: top;\n",
       "    }\n",
       "\n",
       "    .dataframe thead th {\n",
       "        text-align: right;\n",
       "    }\n",
       "</style>\n",
       "<table border=\"1\" class=\"dataframe\">\n",
       "  <thead>\n",
       "    <tr style=\"text-align: right;\">\n",
       "      <th></th>\n",
       "      <th>0</th>\n",
       "      <th>1</th>\n",
       "      <th>2</th>\n",
       "      <th>3</th>\n",
       "      <th>4</th>\n",
       "    </tr>\n",
       "  </thead>\n",
       "  <tbody>\n",
       "    <tr>\n",
       "      <th>0</th>\n",
       "      <td>0.313821</td>\n",
       "      <td>0.686786</td>\n",
       "      <td>-0.827034</td>\n",
       "      <td>0.348688</td>\n",
       "      <td>-0.480685</td>\n",
       "    </tr>\n",
       "    <tr>\n",
       "      <th>1</th>\n",
       "      <td>-0.161645</td>\n",
       "      <td>0.349076</td>\n",
       "      <td>1.165345</td>\n",
       "      <td>-0.342320</td>\n",
       "      <td>0.151420</td>\n",
       "    </tr>\n",
       "    <tr>\n",
       "      <th>2</th>\n",
       "      <td>-0.893705</td>\n",
       "      <td>-0.957260</td>\n",
       "      <td>-0.448640</td>\n",
       "      <td>0.231258</td>\n",
       "      <td>-0.743970</td>\n",
       "    </tr>\n",
       "    <tr>\n",
       "      <th>3</th>\n",
       "      <td>1.562866</td>\n",
       "      <td>-0.929746</td>\n",
       "      <td>0.172912</td>\n",
       "      <td>-0.576122</td>\n",
       "      <td>1.407895</td>\n",
       "    </tr>\n",
       "    <tr>\n",
       "      <th>4</th>\n",
       "      <td>0.411114</td>\n",
       "      <td>-1.247491</td>\n",
       "      <td>-0.802449</td>\n",
       "      <td>0.317958</td>\n",
       "      <td>-0.119262</td>\n",
       "    </tr>\n",
       "    <tr>\n",
       "      <th>5</th>\n",
       "      <td>-0.461696</td>\n",
       "      <td>1.392968</td>\n",
       "      <td>-0.954755</td>\n",
       "      <td>-0.253910</td>\n",
       "      <td>-0.259308</td>\n",
       "    </tr>\n",
       "    <tr>\n",
       "      <th>6</th>\n",
       "      <td>0.776397</td>\n",
       "      <td>-1.406432</td>\n",
       "      <td>0.292563</td>\n",
       "      <td>-1.742829</td>\n",
       "      <td>0.437358</td>\n",
       "    </tr>\n",
       "    <tr>\n",
       "      <th>7</th>\n",
       "      <td>1.215756</td>\n",
       "      <td>0.155151</td>\n",
       "      <td>1.115436</td>\n",
       "      <td>0.312208</td>\n",
       "      <td>-0.493080</td>\n",
       "    </tr>\n",
       "    <tr>\n",
       "      <th>8</th>\n",
       "      <td>1.157479</td>\n",
       "      <td>-0.143202</td>\n",
       "      <td>-0.587324</td>\n",
       "      <td>0.970606</td>\n",
       "      <td>-0.570662</td>\n",
       "    </tr>\n",
       "    <tr>\n",
       "      <th>9</th>\n",
       "      <td>0.844905</td>\n",
       "      <td>0.502698</td>\n",
       "      <td>1.547538</td>\n",
       "      <td>0.116758</td>\n",
       "      <td>-0.092861</td>\n",
       "    </tr>\n",
       "  </tbody>\n",
       "</table>\n",
       "</div>"
      ],
      "text/plain": [
       "          0         1         2         3         4\n",
       "0  0.313821  0.686786 -0.827034  0.348688 -0.480685\n",
       "1 -0.161645  0.349076  1.165345 -0.342320  0.151420\n",
       "2 -0.893705 -0.957260 -0.448640  0.231258 -0.743970\n",
       "3  1.562866 -0.929746  0.172912 -0.576122  1.407895\n",
       "4  0.411114 -1.247491 -0.802449  0.317958 -0.119262\n",
       "5 -0.461696  1.392968 -0.954755 -0.253910 -0.259308\n",
       "6  0.776397 -1.406432  0.292563 -1.742829  0.437358\n",
       "7  1.215756  0.155151  1.115436  0.312208 -0.493080\n",
       "8  1.157479 -0.143202 -0.587324  0.970606 -0.570662\n",
       "9  0.844905  0.502698  1.547538  0.116758 -0.092861"
      ]
     },
     "execution_count": 8,
     "metadata": {},
     "output_type": "execute_result"
    }
   ],
   "source": [
    "import pandas as pd\n",
    "import numpy as np\n",
    "\n",
    "df = pd.DataFrame(np.random.randn(10,5))\n",
    "df"
   ]
  },
  {
   "cell_type": "code",
   "execution_count": 9,
   "metadata": {
    "collapsed": false,
    "jupyter": {
     "outputs_hidden": false
    }
   },
   "outputs": [
    {
     "name": "stdout",
     "output_type": "stream",
     "text": [
      "RangeIndex(start=0, stop=5, step=1)\n"
     ]
    }
   ],
   "source": [
    "print(df.columns)"
   ]
  },
  {
   "cell_type": "code",
   "execution_count": 10,
   "metadata": {
    "collapsed": false
   },
   "outputs": [
    {
     "data": {
      "text/plain": [
       "0    0.686786\n",
       "1    0.349076\n",
       "2   -0.957260\n",
       "3   -0.929746\n",
       "4   -1.247491\n",
       "5    1.392968\n",
       "6   -1.406432\n",
       "7    0.155151\n",
       "8   -0.143202\n",
       "9    0.502698\n",
       "Name: 1, dtype: float64"
      ]
     },
     "execution_count": 10,
     "metadata": {},
     "output_type": "execute_result"
    }
   ],
   "source": [
    "df[1]"
   ]
  },
  {
   "cell_type": "code",
   "execution_count": 11,
   "metadata": {
    "collapsed": false
   },
   "outputs": [
    {
     "data": {
      "text/plain": [
       "2   -0.957260\n",
       "3   -0.929746\n",
       "4   -1.247491\n",
       "Name: 1, dtype: float64"
      ]
     },
     "execution_count": 11,
     "metadata": {},
     "output_type": "execute_result"
    }
   ],
   "source": [
    "df[1][2:5]"
   ]
  },
  {
   "cell_type": "code",
   "execution_count": 12,
   "metadata": {
    "collapsed": false
   },
   "outputs": [
    {
     "data": {
      "text/html": [
       "<div>\n",
       "<style scoped>\n",
       "    .dataframe tbody tr th:only-of-type {\n",
       "        vertical-align: middle;\n",
       "    }\n",
       "\n",
       "    .dataframe tbody tr th {\n",
       "        vertical-align: top;\n",
       "    }\n",
       "\n",
       "    .dataframe thead th {\n",
       "        text-align: right;\n",
       "    }\n",
       "</style>\n",
       "<table border=\"1\" class=\"dataframe\">\n",
       "  <thead>\n",
       "    <tr style=\"text-align: right;\">\n",
       "      <th></th>\n",
       "      <th>0</th>\n",
       "      <th>1</th>\n",
       "      <th>2</th>\n",
       "      <th>3</th>\n",
       "      <th>4</th>\n",
       "    </tr>\n",
       "  </thead>\n",
       "  <tbody>\n",
       "    <tr>\n",
       "      <th>count</th>\n",
       "      <td>10.000000</td>\n",
       "      <td>10.000000</td>\n",
       "      <td>10.000000</td>\n",
       "      <td>10.000000</td>\n",
       "      <td>10.000000</td>\n",
       "    </tr>\n",
       "    <tr>\n",
       "      <th>mean</th>\n",
       "      <td>0.476529</td>\n",
       "      <td>-0.159745</td>\n",
       "      <td>0.067359</td>\n",
       "      <td>-0.061771</td>\n",
       "      <td>-0.076316</td>\n",
       "    </tr>\n",
       "    <tr>\n",
       "      <th>std</th>\n",
       "      <td>0.789636</td>\n",
       "      <td>0.936367</td>\n",
       "      <td>0.934102</td>\n",
       "      <td>0.733501</td>\n",
       "      <td>0.630834</td>\n",
       "    </tr>\n",
       "    <tr>\n",
       "      <th>min</th>\n",
       "      <td>-0.893705</td>\n",
       "      <td>-1.406432</td>\n",
       "      <td>-0.954755</td>\n",
       "      <td>-1.742829</td>\n",
       "      <td>-0.743970</td>\n",
       "    </tr>\n",
       "    <tr>\n",
       "      <th>25%</th>\n",
       "      <td>-0.042779</td>\n",
       "      <td>-0.950381</td>\n",
       "      <td>-0.748667</td>\n",
       "      <td>-0.320217</td>\n",
       "      <td>-0.489981</td>\n",
       "    </tr>\n",
       "    <tr>\n",
       "      <th>50%</th>\n",
       "      <td>0.593755</td>\n",
       "      <td>0.005975</td>\n",
       "      <td>-0.137864</td>\n",
       "      <td>0.174008</td>\n",
       "      <td>-0.189285</td>\n",
       "    </tr>\n",
       "    <tr>\n",
       "      <th>75%</th>\n",
       "      <td>1.079336</td>\n",
       "      <td>0.464293</td>\n",
       "      <td>0.909718</td>\n",
       "      <td>0.316520</td>\n",
       "      <td>0.090350</td>\n",
       "    </tr>\n",
       "    <tr>\n",
       "      <th>max</th>\n",
       "      <td>1.562866</td>\n",
       "      <td>1.392968</td>\n",
       "      <td>1.547538</td>\n",
       "      <td>0.970606</td>\n",
       "      <td>1.407895</td>\n",
       "    </tr>\n",
       "  </tbody>\n",
       "</table>\n",
       "</div>"
      ],
      "text/plain": [
       "               0          1          2          3          4\n",
       "count  10.000000  10.000000  10.000000  10.000000  10.000000\n",
       "mean    0.476529  -0.159745   0.067359  -0.061771  -0.076316\n",
       "std     0.789636   0.936367   0.934102   0.733501   0.630834\n",
       "min    -0.893705  -1.406432  -0.954755  -1.742829  -0.743970\n",
       "25%    -0.042779  -0.950381  -0.748667  -0.320217  -0.489981\n",
       "50%     0.593755   0.005975  -0.137864   0.174008  -0.189285\n",
       "75%     1.079336   0.464293   0.909718   0.316520   0.090350\n",
       "max     1.562866   1.392968   1.547538   0.970606   1.407895"
      ]
     },
     "execution_count": 12,
     "metadata": {},
     "output_type": "execute_result"
    }
   ],
   "source": [
    "df.describe()"
   ]
  },
  {
   "cell_type": "markdown",
   "metadata": {
    "collapsed": false
   },
   "source": [
    "## Widgets"
   ]
  },
  {
   "cell_type": "code",
   "execution_count": 13,
   "metadata": {
    "collapsed": false,
    "jupyter": {
     "outputs_hidden": false
    }
   },
   "outputs": [
    {
     "data": {
      "application/vnd.jupyter.widget-view+json": {
       "model_id": "9d739eda13a44828888729b867d1af58",
       "version_major": 2,
       "version_minor": 0
      },
      "text/plain": [
       "IntSlider(value=0)"
      ]
     },
     "metadata": {},
     "output_type": "display_data"
    }
   ],
   "source": [
    "import ipywidgets as widgets\n",
    "\n",
    "widgets.IntSlider()"
   ]
  },
  {
   "cell_type": "code",
   "execution_count": 14,
   "metadata": {
    "collapsed": false,
    "jupyter": {
     "outputs_hidden": false
    }
   },
   "outputs": [
    {
     "data": {
      "application/vnd.jupyter.widget-view+json": {
       "model_id": "f45ca8eff9ac4401bde05be18c95b076",
       "version_major": 2,
       "version_minor": 0
      },
      "text/plain": [
       "Button(description='Press Me', style=ButtonStyle())"
      ]
     },
     "metadata": {},
     "output_type": "display_data"
    }
   ],
   "source": [
    "import ipywidgets as widgets\n",
    "\n",
    "widgets.Button(description='Press Me')"
   ]
  },
  {
   "cell_type": "markdown",
   "metadata": {
    "collapsed": false
   },
   "source": [
    "---\n",
    "\n",
    "<a href=\"ipynb/jupyter.ipynb\" download>Download the ipynb file</a>\n",
    "\n",
    "---\n",
    "\n",
    "# Δες επίσης\n",
    "- [Παραδείγματα](https://nbviewer.jupyter.org/)\n",
    "- [Φετινά θέματα εξετάσεων](https://www.youtube.com/watch?v=dQw4w9WgXcQ)"
   ]
  }
 ],
 "metadata": {
  "kernelspec": {
   "argv": [
    "/usr/bin/python3",
    "-m",
    "ipykernel_launcher",
    "-f",
    "{connection_file}"
   ],
   "display_name": "Python 3",
   "env": null,
   "interrupt_mode": "signal",
   "language": "python",
   "metadata": null,
   "name": "python3"
  },
  "language_info": {
   "codemirror_mode": {
    "name": "ipython",
    "version": 3
   },
   "file_extension": ".py",
   "mimetype": "text/x-python",
   "name": "python",
   "nbconvert_exporter": "python",
   "pygments_lexer": "ipython3",
   "version": "3.8.2"
  },
  "name": "jupyter.ipynb"
 },
 "nbformat": 4,
 "nbformat_minor": 4
}
