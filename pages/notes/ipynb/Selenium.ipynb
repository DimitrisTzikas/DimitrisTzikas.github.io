{
 "cells": [
  {
   "cell_type": "markdown",
   "metadata": {
    "collapsed": false
   },
   "source": [
    "# Playing with python and selenium\n",
    "## Selenium\n",
    "Selenium is a portable framework for testing web applications. Selenium provides a playback tool for authoring functional tests without the need to learn a test scripting language (Selenium IDE). It also provides a test domain-specific language (Selenese) to write tests in a number of popular programming languages, including C#, Groovy, Java, Perl, PHP, Python, Ruby and Scala. The tests can then run against most modern web browsers. Selenium runs on Windows, Linux, and macOS. It is open-source software released under the Apache License 2.0.\n",
    "\n",
    "## Geckodriver\n",
    "This program provides the HTTP API described by the WebDriver protocol to communicate with Gecko browsers, such as Firefox. It translates calls into the Marionette remote protocol by acting as a proxy between the local- and remote ends.\n",
    "\n",
    "## Table of contents\n",
    "* [Installation](#1)\n",
    "* [Getting Started](#2)\n",
    "* [Navigating](#3)\n",
    "\n",
    "## Installation <a class=\"anchor\" id=\"1\"></a>\n",
    "You need to install:\n",
    "- Python bindings for Selenium\n",
    "- Drivers (geckodriver for gecko browsers)\n",
    "\n",
    "If you have arch linux just run:"
   ]
  },
  {
   "cell_type": "code",
   "execution_count": 1,
   "metadata": {
    "collapsed": false,
    "jupyter": {
     "outputs_hidden": false
    }
   },
   "outputs": [
    {
     "name": "stdout",
     "output_type": "stream",
     "text": [
      "Swipe your finger across the fingerprint reader\r\n"
     ]
    },
    {
     "name": "stdout",
     "output_type": "stream",
     "text": [
      "warning: python-selenium-3.141.0-2 is up to date -- reinstalling\r\n",
      "warning: geckodriver-0.26.0-1 is up to date -- reinstalling\r\n",
      "resolving dependencies...\r\n"
     ]
    },
    {
     "name": "stdout",
     "output_type": "stream",
     "text": [
      "looking for conflicting packages...\r\n"
     ]
    },
    {
     "name": "stdout",
     "output_type": "stream",
     "text": [
      "\r\n",
      "Packages (2) geckodriver-0.26.0-1  python-selenium-3.141.0-2\r\n",
      "\r\n",
      "Total Installed Size:  5.42 MiB\r\n",
      "Net Upgrade Size:      0.00 MiB\r\n",
      "\r\n",
      ":: Proceed with installation? [Y/n] y\r\n",
      "(0/2) checking keys in keyring                     [----------------------]   0%\r"
     ]
    },
    {
     "name": "stdout",
     "output_type": "stream",
     "text": [
      "(1/2) checking keys in keyring                     [###########-----------]  50%\r"
     ]
    },
    {
     "name": "stdout",
     "output_type": "stream",
     "text": [
      "(2/2) checking keys in keyring                     [######################] 100%\r\n",
      "(0/2) checking package integrity                   [----------------------]   0%\r"
     ]
    },
    {
     "name": "stdout",
     "output_type": "stream",
     "text": [
      "(1/2) checking package integrity                   [########--------------]  40%\r"
     ]
    },
    {
     "name": "stdout",
     "output_type": "stream",
     "text": [
      "(2/2) checking package integrity                   [######################] 100%\r\n",
      "(0/2) loading package files                        [----------------------]   0%\r",
      "(1/2) loading package files                        [########--------------]  40%\r",
      "(2/2) loading package files                        [######################] 100%\r\n",
      "(0/2) checking for file conflicts                  [----------------------]   0%\r",
      "(1/2) checking for file conflicts                  [###########-----------]  50%\r",
      "(2/2) checking for file conflicts                  [######################] 100%\r\n",
      "(0/2) checking available disk space                [----------------------]   0%\r"
     ]
    },
    {
     "name": "stdout",
     "output_type": "stream",
     "text": [
      "(1/2) checking available disk space                [###########-----------]  50%\r",
      "(2/2) checking available disk space                [######################] 100%\r\n",
      ":: Processing package changes...\r\n"
     ]
    },
    {
     "name": "stdout",
     "output_type": "stream",
     "text": [
      "(1/2) reinstalling python-selenium                 [----------------------]   0%\r"
     ]
    },
    {
     "name": "stdout",
     "output_type": "stream",
     "text": [
      "(1/2) reinstalling python-selenium                 [######################] 100%\r\n",
      "(2/2) reinstalling geckodriver                     [----------------------]   0%\r"
     ]
    },
    {
     "name": "stdout",
     "output_type": "stream",
     "text": [
      "(2/2) reinstalling geckodriver                     [######################] 100%\r\n"
     ]
    },
    {
     "name": "stdout",
     "output_type": "stream",
     "text": [
      ":: Running post-transaction hooks...\r\n",
      "(1/1) Arming ConditionNeedsUpdate...\r\n"
     ]
    },
    {
     "name": "stdout",
     "output_type": "stream",
     "text": [
      "yes: standard output: Broken pipe\r\n"
     ]
    }
   ],
   "source": [
    "!yes | sudo pacman -S python-selenium geckodriver"
   ]
  },
  {
   "cell_type": "markdown",
   "metadata": {
    "collapsed": false
   },
   "source": [
    "If you have ubuntu linux run:"
   ]
  },
  {
   "cell_type": "code",
   "execution_count": null,
   "metadata": {
    "collapsed": false,
    "jupyter": {
     "outputs_hidden": false
    }
   },
   "outputs": [],
   "source": [
    "%%bash\n",
    "wget https://github.com/mozilla/geckodriver/releases/download/v0.26.0/geckodriver-v0.26.0-linux64.tar.gz\n",
    "sudo sh -c 'tar -x geckodriver -zf geckodriver-v0.26.0-linux64.tar.gz-O > /usr/bin/geckodriver'\n",
    "sudo chmod +x /usr/bin/geckodriver\n",
    "rm geckodriver-v0.26.0-linux64.tar.gz"
   ]
  },
  {
   "cell_type": "markdown",
   "metadata": {
    "collapsed": false
   },
   "source": [
    "If you have windows install linux :)\n",
    "\n",
    "## Getting Started <a class=\"anchor\" id=\"2\"></a>"
   ]
  },
  {
   "cell_type": "code",
   "execution_count": 2,
   "metadata": {
    "collapsed": false,
    "jupyter": {
     "outputs_hidden": false
    }
   },
   "outputs": [],
   "source": [
    "from selenium.webdriver.common.keys import Keys\n",
    "from selenium import webdriver\n",
    "\n",
    "# Creating instance of Firefox WebDriver\n",
    "# The webdriver controls a browser by sending commands to a remote server.\n",
    "driver = webdriver.Firefox()"
   ]
  },
  {
   "cell_type": "code",
   "execution_count": 3,
   "metadata": {
    "collapsed": false,
    "jupyter": {
     "outputs_hidden": false
    }
   },
   "outputs": [],
   "source": [
    "# Navigate to a page given by the URL.\n",
    "# WebDriver will wait until the page has fully loaded\n",
    "driver.get(\"https://duckduckgo.com\")"
   ]
  },
  {
   "cell_type": "code",
   "execution_count": 4,
   "metadata": {
    "collapsed": false,
    "jupyter": {
     "outputs_hidden": false
    }
   },
   "outputs": [],
   "source": [
    "# Get search bar\n",
    "search_bar = driver.find_element_by_id(\"search_form_input_homepage\")"
   ]
  },
  {
   "cell_type": "code",
   "execution_count": 5,
   "metadata": {
    "collapsed": false,
    "jupyter": {
     "outputs_hidden": false
    }
   },
   "outputs": [],
   "source": [
    "# Type Hello World!\n",
    "search_bar.send_keys(\"Hello World!\")"
   ]
  },
  {
   "cell_type": "code",
   "execution_count": 6,
   "metadata": {
    "collapsed": false,
    "jupyter": {
     "outputs_hidden": false
    }
   },
   "outputs": [],
   "source": [
    "# \"Press\" return\n",
    "search_bar.send_keys(Keys.RETURN)"
   ]
  },
  {
   "cell_type": "code",
   "execution_count": 7,
   "metadata": {
    "collapsed": false,
    "jupyter": {
     "outputs_hidden": false
    }
   },
   "outputs": [],
   "source": [
    "driver.close()"
   ]
  },
  {
   "cell_type": "markdown",
   "metadata": {
    "collapsed": false
   },
   "source": [
    "## Navigating <a class=\"anchor\" id=\"3\"></a>"
   ]
  },
  {
   "cell_type": "code",
   "execution_count": 8,
   "metadata": {
    "collapsed": false,
    "jupyter": {
     "outputs_hidden": false
    }
   },
   "outputs": [],
   "source": [
    "def get_grade(username, password):\n",
    "    driver = webdriver.Firefox()\n",
    "    driver.get(\"http://pithia.teithe.gr/unistudent/\")\n",
    "    driver.find_element_by_id(\"userName\").send_keys(username)\n",
    "    driver.find_element_by_id(\"pwd\").send_keys(password)\n",
    "    driver.find_element_by_id(\"submit1\").click()\n",
    "    driver.find_element_by_id(\"mnu3\").click()\n",
    "    \n",
    "    page_source = driver.page_source\n",
    "    driver.close()\n",
    "    \n",
    "    soup = BeautifulSoup(page_source, 'html.parser')\n",
    "    \n",
    "    return soup.find(\"tbody\").find_all(\"tr\")[len(soup.find(\"tbody\").find_all(\"tr\")[102])-10].find(\"span\").getText()\n",
    "\n",
    "#print(get_grade(\"username\", \"password\"))"
   ]
  },
  {
   "cell_type": "markdown",
   "metadata": {
    "collapsed": false
   },
   "source": [
    "---\n",
    "\n",
    "<a href=\"ipynb/Selenium.ipynb\" download>Download the ipynb file</a>\n",
    "\n",
    "---\n",
    "\n",
    "# Sources\n",
    "- [Selenium with Python](https://selenium-python.readthedocs.io/index.html)\n",
    "- [Wikipedia - Selenium (software)](https://en.wikipedia.org/wiki/Selenium_(software)\n",
    "- [Github - Mozilla/geckodriver](https://github.com/mozilla/geckodriver)"
   ]
  }
 ],
 "metadata": {
  "kernelspec": {
   "argv": [
    "/usr/bin/python3",
    "-m",
    "ipykernel_launcher",
    "-f",
    "{connection_file}"
   ],
   "display_name": "Python 3",
   "env": null,
   "interrupt_mode": "signal",
   "language": "python",
   "metadata": null,
   "name": "python3"
  },
  "language_info": {
   "codemirror_mode": {
    "name": "ipython",
    "version": 3
   },
   "file_extension": ".py",
   "mimetype": "text/x-python",
   "name": "python",
   "nbconvert_exporter": "python",
   "pygments_lexer": "ipython3",
   "version": "3.8.2"
  },
  "name": "Selenium.ipynb"
 },
 "nbformat": 4,
 "nbformat_minor": 4
}
